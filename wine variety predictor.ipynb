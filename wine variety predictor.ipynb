{
 "cells": [
  {
   "cell_type": "code",
   "execution_count": 2,
   "metadata": {
    "scrolled": true
   },
   "outputs": [
    {
     "name": "stdout",
     "output_type": "stream",
     "text": [
      "['classic', 'hay', 'decent', 'sweetness', 'short', 'equal', 'blue', 'herb', 'pitfruit', 'hard', 'inky', 'dark', 'aromas', 'black', 'nose', 'ethereal', 'delicate', 'impressive', 'small', 'exotic', 'ripe', 'sweet', 'rich', 'full', 'fresh', 'touch', 'bold', 'interesting', 'red', 'currant', 'extract', 'depth', 'likable', 'unhindered', 'excess', 'enjoyable', 'due', 'new', 'french', 'chocolate', 'broad', 'fleshy', 'abundant', 'ample', 'nice', 'atop', 'tannin', 'additional', 'typical', 'tight', 'neutral', 'sharp', 'sangiovese', 'forest', 'warm', 'palate', 'gamy', 'assertive', 'gritty', 'astringent', 'freshcut', 'light', 'vibrant', 'briny', 'stainless', 'funky', 'harmonious', 'finish', 'future', 'accessible', 'young', 'soft', 'attractive', 'creamy', 'rounded', 'first', 'green', 'lemony', 'freshness', 'easy', 'dry', 'white', 'greenapple', 'balsam', 'deep', 'herbal', 'serious', 'overall', 'solid', 'wine', 'concentrated', 'tropical', 'candied', 'upright', 'underbrush', 'aromatic', 'earthy', 'follow', 'structured', 'prune', 'raspy', 'evident', 'robust', 'toast', 'big', 'fine', 'sophisticated', 'bright', 'beautiful', 'nut', 'many', 'ready', 'cooperative', 'opulent', 'luscious', 'salad', 'gorgeous', 'strong', 'sandalwood', 'intense', 'distant', 'yellow', 'delicious', 'subtle', 'lime', 'restaurant', 'fair', 'oak', 'polished', 'huge', 'purple', 'espresso', 'olive', 'good', 'long', 'everyday', 'nettle', 'baking', 'warmth', 'steely', 'extra', 'quiet', 'generosity', 'certain', 'ampleness', 'clean', 'winerys', 'several', 'american', 'pungent', 'surround', 'lean', 'herbdriven', 'lengthy', 'softer', 'sworn', 'grassy', 'sour', 'pear', 'complex', 'cool', 'ripeits', 'acidic', 'tannic', 'thick', 'basic', 'pruney', 'varietal', 'recall', 'hot', 'tiny', 'pasilla', 'strawberry', 'blueberry', 'generous', 'gentle', 'usual', 'chaparral', 'bay', 'leaf', 'herbs', 'dusty', 'driven', 'wild', 'crushed', 'hightoned', 'tangy', 'primary', 'front', 'mineral', 'vivid', 'resemble', 'oaky', 'bread', 'voluptuous', 'notable', 'testament', 'needing', 'memorable', 'mediumbodied', 'opposite', 'ageworthy', 'wonderful', 'effusive', 'fruitdriven', 'little', 'center', 'present', 'profile', 'lack', 'scorched', 'earth', 'balsamic', 'cherry', 'perfect', 'sunny', 'oakaged', 'brilliant', 'low', 'raw', 'lemon', 'steady', 'baked', 'exuberant', 'waft', 'unctuous', 'textural', 'plenty', 'cinnamon', 'aggressive', 'unique', 'known', 'pretty', 'cinnamontoast', 'wound', 'linear', 'firm', 'unwind', 'approachable', 'powerful', 'best', 'acre', 'true', 'excellent', 'mix', 'traditional', 'modern', 'heavy', 'popcorn', 'blackcurrant', 'odd', 'choppy', 'give', 'identifiable', 'thin', 'austere', 'tart', 'herbaceous', 'textured', 'crisp', 'grown', 'great', 'cheese', 'fluffy', 'foamy', 'average', 'pickled', 'bitter', 'sweetish', 'real', 'spritzy', 'bad', 'filled', 'indigenous', 'saline', 'flat', 'medicinal', 'direct', 'fruit', 'gold', 'layer', 'stacked', 'saturated', 'berry', 'dense', 'old', 'recent', 'allied', 'sharpness', 'right', 'toasty', 'blend', 'vineyard', 'sure', 'mellow', 'hilltop', 'southern', 'appeal', 'popular', 'fullbodied', 'whole', 'modest', 'dose', 'healthy', 'tartness', 'underripe', 'terrific', 'accent', 'complete', 'zesty', 'half', 'enough', 'mouth', 'blocky', 'wellgrown', 'unintegrated', 'fragrant', 'floral', 'fried', 'fish', 'distinctive', 'high', 'unusual', 'resinous', 'needle', 'mixed', 'least', 'elegant', 'pedigree', 'intricate', 'nicely', 'integrated', 'jammy', 'viscous', 'golden', 'mineraldriven', 'richer', 'cold', 'custard', 'plum', 'plus', 'signal', 'brisk', 'dewfresh', 'clear', 'classy', 'wooden', 'wet', 'relative', 'delightful', 'leather', 'meant', 'distinct', 'characteristic', 'reduced', 'generic', 'exceptional', 'aging', 'lighter', 'tea', 'silky', 'tree', 'underdeveloped', 'uncomplicated', 'pleasant', 'licorice', 'talc', 'flavorful', 'north', 'racy', 'compelling', 'doesnt', 'thyme', 'character', 'northwest', 'western', 'brown', 'boisterous', 'savory', 'greenfloral', 'racier', 'designated', 'length', 'spice', 'smooth', 'supple', 'citrus', 'nectarine', 'flesh', 'mediumweight', 'different', 'grenadine', 'drinkable', 'massive', 'unsweetened', 'smoky', 'bouquet', 'cellar', 'unripe', 'aniseed', 'immediate', 'meat', 'lead', 'youthful', 'fullness', 'perfumed', 'single', 'extreme', 'dried', 'reticent', 'reveal', 'vegetal', 'coffee', 'porcini', 'likely', 'quick', 'cleancut', 'romanian', 'chewy', 'sugar', 'ripeness', 'lavish', 'sticky', 'grippy', 'fudge', 'multiple', 'declassified', 'pricier', 'fig', 'fancy', 'lemonlime', 'standard', 'loamy', 'highacid', 'mild', 'last', 'historic', 'shred', 'balanced', 'distinguish', 'ravioli', 'croissant', 'yeasty', 'briskness', 'wade', 'pithy', 'cocktail', 'complement', 'wide', 'needs', 'final', 'sanguine', 'potential', 'ros', 'copperlike', 'complexity', 'gaseous', 'aloof', 'lot', 'seaweed', 'spiritual', 'pie', 'lightest', 'open', 'stellar', 'fool', 'fullblown', 'keep', 'blackberry', 'drier', 'layered', 'intriguing', 'flower', 'cloudy', 'principal', 'sturdy', 'spicy', 'dramatic', 'trace', 'structural', 'substantial', 'resiny', 'unappealing', 'snappy', 'raspberry', 'leafy', 'energetic', 'former', 'sumptuous', 'important', 'early', 'herbalforest', 'previous', 'superoaky', 'suggestive', 'poster', 'graphite', 'asian', 'wellmade', 'alcoholic', 'ruby', 'various', 'compact', 'rough', 'coastal', 'noticeable', 'next', 'sloped', 'moderate', 'citrusy', 'simple', 'melts', 'juicy', 'special', 'barrel', 'chamomile', 'fastflowing', 'straight', 'virtual', 'longest', 'zest', 'walnut', 'persistent', 'alsace', 'german', 'enormous', 'wellbalanced', 'pure', 'apricot', 'promising', 'melon', 'maple', 'innovative', 'hallmark', 'indian', 'doest', 'live', 'frothy', 'fruitsa', 'separate', 'second', 'bite', 'overripe', 'bottle', 'come', 'valuepriced', 'feral', 'strange', 'foxy', 'cedary', 'pencil', 'integral', 'endless', 'reservestyle', 'sweeter', 'original', 'northern', 'metallic', 'staunch', 'indicative', 'isnt', 'bready', 'fruitforward', 'cocoa', 'oxidative', 'eastern', 'rustic', 'chunky', 'syrupy', 'lamb', 'leathery', 'tussle', 'seductive', 'brute', 'fullvolume', 'pushy', 'rocky', 'thanks', 'tang', 'vivacious', 'pour', 'singlevineyard', 'like', 'lightweight', 'hang', 'yield', 'fruitflavored', 'minimal', 'burst', 'top', 'overwhelms', 'natural', 'cultivated', 'dessert', 'syrup', 'graceful', 'crmant', 'luxurious', 'buoyant', 'table', 'expansive', 'hint', 'affordable', 'tough', 'local', 'honeysuckle', 'acidity', 'wellbuilt', 'upon', 'feels', 'finegrained', 'pale', 'overripeness', 'nectarous', 'adequate', 'turned', 'cassis', 'fat', 'paraffin', 'sage', 'magic', 'ageable', 'warmer', 'inherent', 'bittersweet', 'stiff', 'cedar', 'unfurling', 'south', 'native', 'earthier', 'capable', 'succulent', 'pineapple', 'austrian', 'successful', 'heartier', 'duck', 'hearty', 'supportive', 'almond', 'quite', 'grainy', 'youll', 'large', 'wonder', 'decant', 'got', 'barrelfermentation', 'stylishly', 'oaked', 'gunmetal', 'weird', 'fascinating', 'forestfloor', 'itll', 'recognizable', 'peach', 'offdry', 'fruity', 'confectionary', 'lightbodied', 'lush', 'nutmeg', 'bubble', 'plump', 'sip', 'familiar', 'kiss', 'briary', 'sappy', 'lovely', 'chilly', 'prickle', 'sleek', 'crunchy', 'gl', 'residual', 'nuts', 'meaty', 'blended', 'wisps', 'unripeness', 'root', 'flaccid', 'bullish', 'crusty', 'richness', 'prominent', 'foodfriendly', 'flavored', 'lightish', 'concentrate', 'limpid', 'individualistic', 'vast', 'ampedup', 'contrived', 'nuanced', 'base', 'tasty', 'ambiguous', 'iris', 'decadent', 'coconut', 'nib', 'amazing', 'finest', 'tanninacid', 'lively', 'sugary', 'unbalanced', 'expressive', 'phenolic', 'oakinspired', 'nervous', 'tentative', 'lightness', 'moreish', 'authentic', 'dominate', 'ultrarich', 'forceful', 'reminiscent', 'sawdust', 'dialed', 'twovineyard', 'onethird', 'prime', 'mint', 'tanninladen', 'reductive', 'welcome', 'scattershot', 'citric', 'tangerine', 'sippable', 'bitterness', 'crowd', 'longer', 'normal', 'mature', 'better', 'undertone', 'nearby', 'verve', 'famous', 'roastytoasty', 'plummy', 'distinguished', 'negotiate', 'blossom', 'older', 'cola', 'texture', 'angular', 'wellintegrated', 'bean', 'unclench', 'slight', 'fruitiness', 'magical', 'wrought', 'malolactic', 'oakdriven', 'legitimate', 'heady', 'grapeskin', 'much', 'muscular', 'comfortable', 'past', 'allpurpose', 'boring', 'inelegant', 'ideal', 'terroir', 'russian', 'entirely', 'herbtinged', 'heavier', 'satiny', 'unoaked', 'coveted', 'persist', 'streak', 'nervy', 'sauce', 'brick', 'shine', 'italian', 'mocha', 'draws', 'explosive', 'stringy', 'quaffable', 'vines', 'prior', 'higher', 'proven', 'perceptible', 'fullflavored', 'woodsy', 'clove', 'slice', 'iodine', 'pine', 'electric', 'irresistible', 'volatile', 'cashew', 'trattoria', 'purest', 'sorts', 'pristine', 'noble', 'straightforward', 'superripe', 'vineyarddesignated', 'cavern', 'medium', 'sharper', 'unconventional', 'unlikely', 'unpredictable', 'edgy', 'similar', 'umamirich', 'allow', 'waxy', 'unveils', 'honeyed', 'animal', 'latex', 'display', 'cranberry', 'cava', 'riper', 'considerable', 'scratchy', 'restrained', 'friendly', 'coconutty', 'impeccable', 'tahitian', 'easydrinking', 'lie', 'pepper', 'honest', 'yearold', 'smoke', 'silkysoft', 'hickory', 'burliness', 'packed', 'plentiful', 'vein', 'lesser', 'immaculate', 'stylish', 'stalky', 'soften', 'overt', 'umamifest', 'underneath', 'superconcentrated', 'obvious', 'rosemary', 'loaded', 'exquisite', 'burnt', 'fermented', 'unyielding', 'flush', 'combine', 'alongside', 'benefit', 'patience', 'sexy', 'larger', 'note', 'flash', 'tan', 'legendary', 'west', 'happy', 'sprig', 'foggy', 'accompany', 'debonair', 'scent', 'disappointing', 'reliable', 'oldvine', 'fruitless', 'mealy', 'petal', 'smaller', 'ordinary', 'fruitsalad', 'solo', 'abrasive', 'grand', 'lompocbased', 'orangeblossom', 'apricotinfused', 'bramble', 'fourth', 'european', 'introduce', 'core', 'menthol', 'grandest', 'underlying', 'companionable', 'central', 'impact', 'shy', 'mossy', 'unfurl', 'strikes', 'utter', 'toasted', 'oregano', 'lockdown', 'fist', 'excitement', 'onedimensional', 'fantastic', 'incongruent', 'pedestrian', 'consistent', 'informal', 'territorial', 'dont', 'intellectual', 'cherryberry', 'weight', 'interchangeable', 'nottooheavy', 'mediumlong', 'concrete', 'tremendous', 'dive', 'quintessential', 'brushy', 'grilled', 'estategrown', 'stops', 'slate', 'firmer', 'hedonistic', 'precellared', 'secondary', 'smidgeon', 'petalbut', 'bear', 'musty', 'perfume', 'grandcru', 'undertones', 'lushly', 'dappled', 'woodspice', 'interwoven', 'common', 'apritif', 'pervasive', 'current', 'severe', 'key', 'lower', 'auslese', 'asphalt', 'worthy', 'richly', 'sufficient', 'burly', 'vineyarddesignate', 'darkest', 'petite', 'werent', 'territory', 'dull', 'impart', 'barnyard', 'ash', 'outstanding', 'handsome', 'tanninrich', 'mildest', 'feel', 'guava', 'vanilla', 'incredible', 'unevolved', 'fruitysugary', 'bistrostyle', 'refreshment', 'radiant']\n",
      "[1156, 49, 255, 195, 687, 374, 640, 573, 1, 1205, 70, 2900, 4028, 15923, 6335, 75, 790, 1137, 702, 1261, 7153, 5633, 10334, 5961, 9262, 3732, 847, 441, 9906, 1512, 145, 376, 87, 2, 28, 453, 261, 2774, 1348, 238, 599, 498, 198, 763, 1427, 103, 212, 371, 530, 1952, 439, 1054, 841, 804, 1118, 2076, 87, 458, 271, 483, 27, 4186, 797, 129, 169, 155, 256, 10487, 128, 540, 2752, 8254, 2500, 1994, 343, 840, 5413, 252, 586, 1942, 8237, 6078, 38, 20, 1221, 2840, 650, 798, 2055, 7929, 1294, 2140, 219, 37, 619, 1468, 2644, 75, 815, 204, 31, 254, 549, 1007, 2318, 3096, 269, 3936, 811, 178, 985, 3262, 35, 526, 638, 36, 388, 1904, 35, 2007, 48, 1671, 2906, 1073, 933, 6, 148, 1534, 341, 311, 432, 302, 869, 5841, 1319, 372, 70, 57, 158, 91, 674, 91, 2, 165, 2, 2536, 208, 531, 185, 90, 12, 1163, 1, 302, 153, 2, 224, 1031, 2138, 2729, 654, 2, 677, 3338, 601, 480, 4, 1004, 81, 674, 241, 1, 466, 156, 2231, 536, 152, 74, 58, 194, 786, 867, 29, 2010, 138, 36, 762, 268, 289, 2134, 164, 57, 1069, 160, 235, 111, 13, 40, 124, 482, 22, 199, 345, 58, 92, 2444, 17, 306, 74, 35, 14, 640, 571, 2198, 452, 202, 12, 119, 574, 663, 2067, 120, 210, 167, 8, 155, 279, 990, 565, 221, 235, 7, 404, 2, 103, 345, 1299, 70, 779, 1822, 1685, 95, 333, 663, 260, 238, 404, 1117, 182, 248, 70, 240, 925, 9, 478, 289, 935, 484, 287, 1704, 282, 3100, 148, 5, 77, 77, 13, 1317, 23, 403, 76, 115, 12, 61, 46, 429, 268, 291, 666, 15, 91, 5, 27, 1246, 759, 679, 109, 3, 33, 726, 1278, 924, 260, 149, 275, 8, 280, 63, 203, 996, 335, 582, 53, 257, 57, 247, 92, 224, 333, 559, 91, 886, 467, 98, 3, 22, 747, 1936, 9, 94, 239, 1587, 489, 14, 79, 343, 732, 2663, 36, 54, 7, 537, 324, 139, 355, 25, 301, 84, 19, 883, 39, 32, 830, 2, 216, 88, 11, 340, 42, 156, 395, 14, 186, 163, 23, 334, 182, 10, 237, 77, 889, 61, 8, 62, 715, 537, 8, 406, 104, 78, 79, 109, 156, 180, 8, 70, 342, 71, 1253, 4, 3, 1, 48, 1194, 2088, 570, 572, 409, 254, 55, 359, 8, 532, 213, 22, 1002, 160, 669, 161, 9, 200, 97, 877, 480, 21, 327, 271, 132, 496, 21, 85, 283, 118, 11, 394, 124, 8, 18, 188, 81, 166, 152, 190, 488, 9, 60, 4, 7, 178, 57, 153, 143, 65, 24, 379, 388, 144, 3, 754, 16, 3, 13, 322, 5, 1, 212, 12, 37, 238, 92, 554, 30, 845, 102, 1, 21, 52, 13, 40, 4, 1, 107, 114, 1054, 67, 2, 14, 35, 771, 43, 200, 224, 252, 14, 16, 144, 155, 146, 2, 84, 383, 132, 3, 327, 581, 148, 119, 57, 120, 136, 267, 1, 139, 3, 54, 2, 396, 443, 55, 91, 24, 84, 290, 290, 260, 163, 1296, 1, 455, 562, 1682, 2, 64, 164, 68, 43, 1, 67, 2, 8, 1026, 36, 245, 1, 15, 123, 124, 368, 496, 34, 51, 51, 15, 5, 110, 1, 13, 96, 2, 34, 368, 174, 246, 545, 224, 27, 105, 65, 31, 97, 104, 8, 22, 8, 47, 61, 203, 59, 26, 10, 76, 52, 63, 51, 43, 101, 830, 145, 123, 76, 102, 4, 253, 2, 6, 33, 103, 2, 51, 97, 12, 156, 71, 113, 14, 2, 11, 42, 82, 594, 3, 406, 2, 131, 81, 111, 1, 192, 67, 161, 140, 269, 184, 572, 156, 101, 523, 17, 5, 123, 119, 259, 10, 3, 43, 10, 15, 215, 2, 77, 21, 78, 64, 51, 12, 127, 75, 2, 77, 117, 49, 49, 283, 786, 18, 128, 13, 4, 95, 93, 115, 109, 148, 155, 173, 6, 73, 11, 1, 2, 44, 26, 18, 47, 26, 33, 13, 73, 499, 606, 96, 195, 866, 315, 59, 86, 201, 125, 55, 237, 123, 416, 9, 8, 249, 26, 78, 542, 20, 63, 15, 10, 35, 39, 2, 42, 19, 468, 254, 13, 53, 1, 3, 13, 6, 47, 4, 1, 117, 14, 404, 2, 74, 69, 81, 5, 39, 91, 19, 188, 381, 50, 323, 107, 8, 84, 3, 80, 83, 31, 38, 17, 67, 160, 32, 4, 2, 29, 105, 81, 1, 93, 167, 4, 270, 249, 9, 63, 13, 60, 53, 181, 428, 23, 16, 6, 144, 6, 73, 11, 12, 85, 117, 164, 244, 113, 37, 240, 9, 372, 348, 16, 6, 115, 100, 5, 287, 3, 1462, 219, 52, 108, 27, 5, 4, 110, 31, 83, 5, 3, 33, 25, 129, 2, 12, 263, 201, 13, 18, 31, 183, 278, 8, 97, 3, 189, 8, 46, 133, 3, 22, 23, 25, 90, 5, 27, 96, 66, 91, 84, 12, 2, 21, 1, 54, 50, 212, 92, 21, 1, 88, 22, 4, 48, 4, 149, 246, 8, 150, 46, 6, 114, 105, 12, 3, 182, 1, 160, 369, 62, 75, 272, 3, 103, 8, 15, 12, 483, 73, 95, 84, 5, 46, 1, 175, 48, 37, 22, 11, 281, 205, 199, 66, 1, 50, 3, 186, 219, 75, 77, 212, 19, 19, 54, 35, 161, 15, 3, 35, 79, 80, 22, 3, 35, 44, 58, 2, 8, 39, 2, 64, 28, 61, 45, 13, 18, 405, 157, 53, 3, 4, 75, 107, 1, 5, 1, 355, 16, 30, 5, 35, 17, 6, 135, 3, 96, 10, 241, 29, 22, 1, 26, 134, 70, 12, 4, 6, 263, 89, 3, 9, 149, 110, 2, 102, 12, 17, 352, 2, 2, 33, 35, 136, 9, 48, 15, 142, 178, 6, 114, 56, 112, 1, 138, 1, 1, 9, 9, 51, 1, 20, 11, 2, 9, 15, 123, 123, 19, 87, 106, 84, 61, 68, 57, 73, 79, 36, 41, 23, 11, 3, 7, 9, 84, 10, 28, 27, 151, 14, 1, 2, 40, 48, 186, 49, 3, 1, 3, 46, 22]\n"
     ]
    }
   ],
   "source": [
    "import pandas as pd\n",
    "import nltk\n",
    "from nltk import word_tokenize\n",
    "import re\n",
    "import numpy as np\n",
    "from sklearn.feature_extraction.text import CountVectorizer\n",
    "from sklearn.model_selection import train_test_split\n",
    "from sklearn.metrics import accuracy_score\n",
    "from sklearn.preprocessing import LabelEncoder\n",
    "from nltk import pos_tag\n",
    "from nltk import FreqDist\n",
    "#from keras.model import Sequential\n",
    "#from keras.layers import Dense\n",
    "train_data=pd.read_csv('train.csv')\n",
    "test_data=pd.read_csv('test.csv')\n",
    "from nltk.corpus import stopwords\n",
    "train_data.replace('',np.NaN)\n",
    "test_data.replace('',np.NaN)\n",
    "sw=list(set(stopwords.words('english')))\n",
    "review_description=train_data['review_description']\n",
    "variety=train_data['variety']\n",
    "#label_encoder=LabelEncoder()\n",
    "#emp_list=[]\n",
    "required_types=[\"J\"]\n",
    "words=[]\n",
    "\n",
    "for i in review_description:\n",
    "    words_cleaned = re.sub(r'[^(a-zA-Z)\\s]','', i)\n",
    "    tokenized=word_tokenize(words_cleaned)\n",
    "    stopped=[w for w in tokenized if not w in sw]\n",
    "    \n",
    "    pos=nltk.pos_tag(stopped)\n",
    "    for w in pos:\n",
    "        if  w[1][0] in required_types:\n",
    "            words.append(w[0].lower())\n",
    "            \n",
    "#To find the most frequent words in the reviews            \n",
    "words=nltk.FreqDist(words)\n",
    "Freq_word=list(words.keys())[:1000]\n",
    "\n",
    "word_Freq=list(words.values())[:1000]\n",
    "print(Freq_word)\n",
    "print(word_Freq) \n",
    "\n",
    "#for i in X:\n",
    "#    temp_list.append(' '.join([re.sub('[0-9\\W_]', '', word)for word in i.split()\n",
    "#if not word in s]))\n",
    "                               "
   ]
  },
  {
   "cell_type": "code",
   "execution_count": 4,
   "metadata": {},
   "outputs": [
    {
     "data": {
      "text/plain": [
       "<matplotlib.axes._subplots.AxesSubplot at 0x1f52f8671d0>"
      ]
     },
     "execution_count": 4,
     "metadata": {},
     "output_type": "execute_result"
    },
    {
     "data": {
      "image/png": "[encoded data removed]",
      "text/plain": [
       "<Figure size 432x288 with 1 Axes>"
      ]
     },
     "metadata": {
      "needs_background": "light"
     },
     "output_type": "display_data"
    }
   ],
   "source": [
    "#Plotting the top 10 most frequent words\n",
    "import operator\n",
    "sorted_words = dict(sorted(words.items(), key=operator.itemgetter(1),reverse=True))\n",
    "import itertools\n",
    "from itertools import islice \n",
    "word=dict(itertools.islice(sorted_words.items(), 10))\n",
    "df = pd.DataFrame.from_dict(word, orient='index')\n",
    "df.plot(kind='bar')"
   ]
  },
  {
   "cell_type": "code",
   "execution_count": 26,
   "metadata": {},
   "outputs": [],
   "source": [
    "replacing_list = []\n",
    "\n",
    "for j in review_description:\n",
    "    replacing_list.append(' '.join([re.sub('[0-9\\W_]', '', word) for word in j.split() if not word in sw]))\n",
    "review_description = replacing_list\n",
    "cv=CountVectorizer()\n",
    "X_clean=cv.fit_transform(review_description)\n",
    "label_encoder=LabelEncoder()\n",
    "variety = label_encoder.fit_transform(variety)\n",
    "X_train, X_test, y_train, y_test = train_test_split(X_clean,variety, train_size=0.8) \n"
   ]
  },
  {
   "cell_type": "code",
   "execution_count": 27,
   "metadata": {},
   "outputs": [
    {
     "name": "stdout",
     "output_type": "stream",
     "text": [
      "Epoch 1/4\n",
      "82657/82657 [==============================] - 173s 2ms/step - loss: 1.1691 - accuracy: 0.6551\n",
      "Epoch 2/4\n",
      "82657/82657 [==============================] - 174s 2ms/step - loss: 0.6419 - accuracy: 0.7990\n",
      "Epoch 3/4\n",
      "82657/82657 [==============================] - 178s 2ms/step - loss: 0.4522 - accuracy: 0.8576\n",
      "Epoch 4/4\n",
      "82657/82657 [==============================] - 171s 2ms/step - loss: 0.3304 - accuracy: 0.8949\n"
     ]
    },
    {
     "data": {
      "text/plain": [
       "<keras.callbacks.callbacks.History at 0x1f530513d68>"
      ]
     },
     "execution_count": 27,
     "metadata": {},
     "output_type": "execute_result"
    }
   ],
   "source": [
    "import tensorflow as tf\n",
    "from keras.models import Sequential\n",
    "from keras.layers import Dense\n",
    "class mycalls(tf.keras.callbacks.Callback):\n",
    "        def on_epoch_end(self,epoch,logs={}):\n",
    "            if(logs.get('accuracy')>0.90):\n",
    "                print(\"\\nReached 90.0 % accuracy so cancelling training\")\n",
    "                self.model.stop_training=True\n",
    "callbacks=mycalls()                \n",
    "model = Sequential()\n",
    "model.add(Dense(128, activation='relu', input_dim=len(cv.get_feature_names())))\n",
    "model.add(Dense(variety.max()+1, activation='sigmoid'))\n",
    "model.compile(\n",
    "    loss='sparse_categorical_crossentropy',\n",
    "    optimizer='adam',\n",
    "    metrics=['accuracy']\n",
    ")\n",
    "model.fit(X_clean,variety, epochs=4, verbose=1,callbacks=[callbacks])\n"
   ]
  }
 ],
 "metadata": {
  "kernelspec": {
   "display_name": "Python 3",
   "language": "python",
   "name": "python3"
  },
  "varInspector": {
   "cols": {
    "lenName": 16,
    "lenType": 16,
    "lenVar": 40
   },
   "kernels_config": {
    "python": {
     "delete_cmd_postfix": "",
     "delete_cmd_prefix": "del ",
     "library": "var_list.py",
     "varRefreshCmd": "print(var_dic_list())"
    },
    "r": {
     "delete_cmd_postfix": ") ",
     "delete_cmd_prefix": "rm(",
     "library": "var_list.r",
     "varRefreshCmd": "cat(var_dic_list()) "
    }
   },
   "types_to_exclude": [
    "module",
    "function",
    "builtin_function_or_method",
    "instance",
    "_Feature"
   ],
   "window_display": false
  }
 },
 "nbformat": 4,
 "nbformat_minor": 2
}
